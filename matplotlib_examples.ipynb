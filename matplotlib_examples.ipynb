{
 "cells": [
  {
   "cell_type": "code",
   "execution_count": 20,
   "metadata": {},
   "outputs": [],
   "source": [
    "%matplotlib inline\n",
    "\n",
    "import numpy as np\n",
    "from matplotlib import pyplot as plt"
   ]
  },
  {
   "cell_type": "code",
   "execution_count": 22,
   "metadata": {},
   "outputs": [
    {
     "ename": "AttributeError",
     "evalue": "module 'myplot' has no attribute 'plot'",
     "output_type": "error",
     "traceback": [
      "\u001b[0;31m---------------------------------------------------------------------------\u001b[0m",
      "\u001b[0;31mAttributeError\u001b[0m                            Traceback (most recent call last)",
      "\u001b[1;32m/Users/math/Documents/GitHub/study_matplotlib/matplotlib_examples.ipynb Cell 2'\u001b[0m in \u001b[0;36m<cell line: 2>\u001b[0;34m()\u001b[0m\n\u001b[1;32m      <a href='vscode-notebook-cell:/Users/math/Documents/GitHub/study_matplotlib/matplotlib_examples.ipynb#ch0000002?line=0'>1</a>\u001b[0m \u001b[39mimport\u001b[39;00m \u001b[39mmyplot\u001b[39;00m\n\u001b[0;32m----> <a href='vscode-notebook-cell:/Users/math/Documents/GitHub/study_matplotlib/matplotlib_examples.ipynb#ch0000002?line=1'>2</a>\u001b[0m myplot\u001b[39m.\u001b[39;49mplot()\n",
      "\u001b[0;31mAttributeError\u001b[0m: module 'myplot' has no attribute 'plot'"
     ]
    }
   ],
   "source": [
    "import myplot\n",
    "myplot.myplot()"
   ]
  },
  {
   "cell_type": "code",
   "execution_count": 24,
   "metadata": {},
   "outputs": [
    {
     "ename": "AttributeError",
     "evalue": "module 'myscatter' has no attribute 'plot'",
     "output_type": "error",
     "traceback": [
      "\u001b[0;31m---------------------------------------------------------------------------\u001b[0m",
      "\u001b[0;31mAttributeError\u001b[0m                            Traceback (most recent call last)",
      "\u001b[1;32m/Users/math/Documents/GitHub/study_matplotlib/matplotlib_examples.ipynb Cell 3'\u001b[0m in \u001b[0;36m<cell line: 2>\u001b[0;34m()\u001b[0m\n\u001b[1;32m      <a href='vscode-notebook-cell:/Users/math/Documents/GitHub/study_matplotlib/matplotlib_examples.ipynb#ch0000001?line=0'>1</a>\u001b[0m \u001b[39mimport\u001b[39;00m \u001b[39mmyscatter\u001b[39;00m\n\u001b[0;32m----> <a href='vscode-notebook-cell:/Users/math/Documents/GitHub/study_matplotlib/matplotlib_examples.ipynb#ch0000001?line=1'>2</a>\u001b[0m myscatter\u001b[39m.\u001b[39;49mplot()\n",
      "\u001b[0;31mAttributeError\u001b[0m: module 'myscatter' has no attribute 'plot'"
     ]
    }
   ],
   "source": [
    "import myscatter\n",
    "myscatter.plot()\n"
   ]
  },
  {
   "cell_type": "code",
   "execution_count": null,
   "metadata": {},
   "outputs": [],
   "source": []
  },
  {
   "cell_type": "code",
   "execution_count": null,
   "metadata": {},
   "outputs": [],
   "source": []
  }
 ],
 "metadata": {
  "interpreter": {
   "hash": "cc8f001d9c61a94a7743c9ed74a0e59ff3a4f155977dc2ec335e1b374bbd9ec9"
  },
  "kernelspec": {
   "display_name": "Python 3.9.12 ('develop_20220323')",
   "language": "python",
   "name": "python3"
  },
  "language_info": {
   "codemirror_mode": {
    "name": "ipython",
    "version": 3
   },
   "file_extension": ".py",
   "mimetype": "text/x-python",
   "name": "python",
   "nbconvert_exporter": "python",
   "pygments_lexer": "ipython3",
   "version": "3.9.12"
  },
  "orig_nbformat": 4
 },
 "nbformat": 4,
 "nbformat_minor": 2
}
